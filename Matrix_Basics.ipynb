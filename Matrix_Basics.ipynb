{
  "nbformat": 4,
  "nbformat_minor": 0,
  "metadata": {
    "colab": {
      "name": "Matrix_Basics",
      "provenance": [],
      "toc_visible": true,
      "mount_file_id": "https://github.com/Dyfox100/CUDA-Tutorials/blob/main/Matrix_Basics.ipynb",
      "authorship_tag": "ABX9TyPJk0f3cSIiQsRii+GDUFNr",
      "include_colab_link": true
    },
    "kernelspec": {
      "name": "python3",
      "display_name": "Python 3"
    }
  },
  "cells": [
    {
      "cell_type": "markdown",
      "metadata": {
        "id": "view-in-github",
        "colab_type": "text"
      },
      "source": [
        "<a href=\"https://colab.research.google.com/github/Dyfox100/CUDA-Tutorials/blob/main/Matrix_Basics.ipynb\" target=\"_parent\"><img src=\"https://colab.research.google.com/assets/colab-badge.svg\" alt=\"Open In Colab\"/></a>"
      ]
    },
    {
      "cell_type": "markdown",
      "metadata": {
        "id": "TfATpI3ccbLy"
      },
      "source": [
        "# Matrix Operations in CUDA\n",
        "\n",
        "### But first, set up the environment"
      ]
    },
    {
      "cell_type": "code",
      "metadata": {
        "colab": {
          "base_uri": "https://localhost:8080/"
        },
        "id": "4toplTmEcWby",
        "outputId": "58e8f65a-bbf9-4cd3-ed52-5ed6fd424de0"
      },
      "source": [
        "!nvcc --version\n",
        "!pip install git+git://github.com/andreinechaev/nvcc4jupyter.git\n",
        "%load_ext nvcc_plugin"
      ],
      "execution_count": 3,
      "outputs": [
        {
          "output_type": "stream",
          "text": [
            "nvcc: NVIDIA (R) Cuda compiler driver\n",
            "Copyright (c) 2005-2019 NVIDIA Corporation\n",
            "Built on Sun_Jul_28_19:07:16_PDT_2019\n",
            "Cuda compilation tools, release 10.1, V10.1.243\n",
            "Collecting git+git://github.com/andreinechaev/nvcc4jupyter.git\n",
            "  Cloning git://github.com/andreinechaev/nvcc4jupyter.git to /tmp/pip-req-build-0dqiq6oh\n",
            "  Running command git clone -q git://github.com/andreinechaev/nvcc4jupyter.git /tmp/pip-req-build-0dqiq6oh\n",
            "Building wheels for collected packages: NVCCPlugin\n",
            "  Building wheel for NVCCPlugin (setup.py) ... \u001b[?25l\u001b[?25hdone\n",
            "  Created wheel for NVCCPlugin: filename=NVCCPlugin-0.0.2-cp36-none-any.whl size=4308 sha256=0744126d781baf5b362b9a9950f53c2c216710a85ac3ab668243609569f98696\n",
            "  Stored in directory: /tmp/pip-ephem-wheel-cache-ab1qaakb/wheels/10/c2/05/ca241da37bff77d60d31a9174f988109c61ba989e4d4650516\n",
            "Successfully built NVCCPlugin\n",
            "Installing collected packages: NVCCPlugin\n",
            "Successfully installed NVCCPlugin-0.0.2\n",
            "created output directory at /content/src\n",
            "Out bin /content/result.out\n"
          ],
          "name": "stdout"
        }
      ]
    },
    {
      "cell_type": "code",
      "metadata": {
        "id": "5su2Ntmhc8Xt"
      },
      "source": [
        ""
      ],
      "execution_count": null,
      "outputs": []
    },
    {
      "cell_type": "markdown",
      "metadata": {
        "id": "ri7BysTKhi7I"
      },
      "source": [
        ""
      ]
    },
    {
      "cell_type": "markdown",
      "metadata": {
        "id": "B6lO2LlFdxRM"
      },
      "source": [
        "### Adding Two Vectors\n",
        "\n",
        "In this next piece of code, we'll add two vectors. \n",
        "\n",
        "Each thread works on a small portion of the total number of elements to add.\n",
        "\n",
        "This uses a 1 dimensional grid, 1 dimensional blocks, and a grid stride loop. \n",
        "\n",
        "Grid stride means that each thread operates on one element then adds the total number of threads in the grid to get the index of the next element. \n",
        "\n",
        "We'll max out the number of threads we can use on a tesla k80 (colab normally runs on those gpus).\n",
        "\n",
        "From [here](https://www.nvidia.com/en-gb/data-center/tesla-k80/), there are 4992 CUDA cores on a K80.\n"
      ]
    },
    {
      "cell_type": "code",
      "metadata": {
        "colab": {
          "base_uri": "https://localhost:8080/"
        },
        "id": "a1iybppRd270",
        "outputId": "1f22d2e9-0775-4db6-aef1-cd94b554c052"
      },
      "source": [
        "%%cu\n",
        "#include <stdio.h>\n",
        "#include <stdlib.h>\n",
        "\n",
        "__global__ void add(int size, float *x, float *y) {\n",
        "    int index = blockIdx.x * blockDim.x + threadIdx.x;\n",
        "    int stride = blockDim.x * gridDim.x;\n",
        "\n",
        "    for (int i = index; i < size; i += stride) {\n",
        "        y[i] = x[i] + y[i];\n",
        "    }\n",
        "}\n",
        "\n",
        "\n",
        "int main() {\n",
        "    int size = 1000000000;\n",
        "    float *x, *y;\n",
        "\n",
        "    // Allocate space for both the vectors on both the host and device.\n",
        "    cudaMallocManaged(&x, size*sizeof(float));\n",
        "    cudaMallocManaged(&y, size*sizeof(float));\n",
        "\n",
        "    for (int i = 0; i < size; i++) {\n",
        "        x[i] = 2.0f;\n",
        "        y[i] = -1.0f;\n",
        "    }\n",
        "\n",
        "    // Launch kernel with 9 blocks with 512 threads in each block.\n",
        "    // This is 4608 threads.\n",
        "    add<<<9, 512>>>(size, x, y);\n",
        "\n",
        "    cudaDeviceSynchronize();\n",
        "\n",
        "    for(int i = 0; i < size; i++) {\n",
        "        if (abs(y[i] - 1.0f) > 0.001f) {\n",
        "            printf(\"Error is greater than 0.001! Value is: %f\", y[i]);\n",
        "        }\n",
        "    }\n",
        "    printf(\"Done! No errors detected!\\n\");\n",
        "    printf(\"First value in y is: %f\\n\", y[0]);\n",
        "    printf(\"Wow that was quick. We just added a billion floating point numbers!\\n\");\n",
        "    cudaFree(x);\n",
        "    cudaFree(y);\n",
        "    return 0;\n",
        "}\n"
      ],
      "execution_count": null,
      "outputs": [
        {
          "output_type": "stream",
          "text": [
            "Done! No errors detected!\n",
            "First value in y is: 1.000000\n",
            "Wow that was quick. We just added a billion floating point numbers!\n",
            "\n"
          ],
          "name": "stdout"
        }
      ]
    },
    {
      "cell_type": "code",
      "metadata": {
        "id": "M4VbnXbfsTCd"
      },
      "source": [
        "# # Install minimal prerequisites (Ubuntu 18.04 as reference)\n",
        "# !sudo apt update && sudo apt install -y cmake g++ wget unzip\n",
        "# # Download and unpack sources\n",
        "# !wget -O opencv.zip https://github.com/opencv/opencv/archive/master.zip\n",
        "# !unzip opencv.zip\n",
        "# # Create build directory\n",
        "# !mkdir -p build\n",
        "# %cd build\n",
        "# Configure\n",
        "#!cmake  ../opencv-master\n",
        "#!lscpu\n",
        "# Build\n",
        "!make -j4\n",
        "!cp -a ../build/ ../drive/MyDrive/"
      ],
      "execution_count": null,
      "outputs": []
    },
    {
      "cell_type": "code",
      "metadata": {
        "colab": {
          "base_uri": "https://localhost:8080/"
        },
        "id": "VzQrUr6os1mP",
        "outputId": "138c097c-2251-4ae3-e4bc-9d8a4ee7f0bb"
      },
      "source": [
        "!pkg-config --libs --cflags drive/MyDrive/test.cpp"
      ],
      "execution_count": 56,
      "outputs": [
        {
          "output_type": "stream",
          "text": [
            "Package drive/MyDrive/test.cpp was not found in the pkg-config search path.\n",
            "Perhaps you should add the directory containing `drive/MyDrive/test.cpp.pc'\n",
            "to the PKG_CONFIG_PATH environment variable\n",
            "No package 'drive/MyDrive/test.cpp' found\n"
          ],
          "name": "stdout"
        }
      ]
    },
    {
      "cell_type": "code",
      "metadata": {
        "id": "JaDjrrS6Nva3"
      },
      "source": [
        "!nvcc  ./drive/MyDrive/test.cpp -I/usr/include/opencv -lopencv_core -lopencv_highgui -lopencv_imgproc -lopencv_imgcodecs -lopencv_core \n"
      ],
      "execution_count": 8,
      "outputs": []
    },
    {
      "cell_type": "code",
      "metadata": {
        "colab": {
          "base_uri": "https://localhost:8080/"
        },
        "id": "NKvequ4swq4b",
        "outputId": "658f1031-28be-432b-872b-6211ea020141"
      },
      "source": [
        "!./a.out\n"
      ],
      "execution_count": 9,
      "outputs": [
        {
          "output_type": "stream",
          "text": [
            "Starting!\n",
            "The first value in the r array is: 76\n"
          ],
          "name": "stdout"
        }
      ]
    },
    {
      "cell_type": "code",
      "metadata": {
        "id": "Jz2fg1nn1lTV"
      },
      "source": [
        ""
      ],
      "execution_count": 7,
      "outputs": []
    }
  ]
}