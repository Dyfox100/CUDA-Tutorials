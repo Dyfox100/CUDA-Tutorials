{
  "nbformat": 4,
  "nbformat_minor": 0,
  "metadata": {
    "colab": {
      "name": "Matrix_Basics",
      "provenance": [],
      "authorship_tag": "ABX9TyN5z0J5TVHrPU7PTYiDVjE2",
      "include_colab_link": true
    },
    "kernelspec": {
      "name": "python3",
      "display_name": "Python 3"
    },
    "accelerator": "GPU"
  },
  "cells": [
    {
      "cell_type": "markdown",
      "metadata": {
        "id": "view-in-github",
        "colab_type": "text"
      },
      "source": [
        "<a href=\"https://colab.research.google.com/github/Dyfox100/CUDA-Tutorials/blob/main/Matrix_Basics.ipynb\" target=\"_parent\"><img src=\"https://colab.research.google.com/assets/colab-badge.svg\" alt=\"Open In Colab\"/></a>"
      ]
    },
    {
      "cell_type": "markdown",
      "metadata": {
        "id": "TfATpI3ccbLy"
      },
      "source": [
        "# Matrix Operations in CUDA\n",
        "\n",
        "### But first, set up the environment"
      ]
    },
    {
      "cell_type": "code",
      "metadata": {
        "colab": {
          "base_uri": "https://localhost:8080/"
        },
        "id": "4toplTmEcWby",
        "outputId": "b2ce44b1-1acd-4f0d-e0ea-bbbf5e191524"
      },
      "source": [
        "!nvcc --version\n",
        "!pip install git+git://github.com/andreinechaev/nvcc4jupyter.git\n",
        "%load_ext nvcc_plugin"
      ],
      "execution_count": 1,
      "outputs": [
        {
          "output_type": "stream",
          "text": [
            "nvcc: NVIDIA (R) Cuda compiler driver\n",
            "Copyright (c) 2005-2019 NVIDIA Corporation\n",
            "Built on Sun_Jul_28_19:07:16_PDT_2019\n",
            "Cuda compilation tools, release 10.1, V10.1.243\n",
            "Collecting git+git://github.com/andreinechaev/nvcc4jupyter.git\n",
            "  Cloning git://github.com/andreinechaev/nvcc4jupyter.git to /tmp/pip-req-build-oafiajwt\n",
            "  Running command git clone -q git://github.com/andreinechaev/nvcc4jupyter.git /tmp/pip-req-build-oafiajwt\n",
            "Building wheels for collected packages: NVCCPlugin\n",
            "  Building wheel for NVCCPlugin (setup.py) ... \u001b[?25l\u001b[?25hdone\n",
            "  Created wheel for NVCCPlugin: filename=NVCCPlugin-0.0.2-cp36-none-any.whl size=4308 sha256=75a7402f6031c7f7496a4cd63bc8ff34018b8db5b6da2949469fe6e849494818\n",
            "  Stored in directory: /tmp/pip-ephem-wheel-cache-axzoxr5q/wheels/10/c2/05/ca241da37bff77d60d31a9174f988109c61ba989e4d4650516\n",
            "Successfully built NVCCPlugin\n",
            "Installing collected packages: NVCCPlugin\n",
            "Successfully installed NVCCPlugin-0.0.2\n",
            "created output directory at /content/src\n",
            "Out bin /content/result.out\n"
          ],
          "name": "stdout"
        }
      ]
    },
    {
      "cell_type": "code",
      "metadata": {
        "id": "5su2Ntmhc8Xt"
      },
      "source": [
        ""
      ],
      "execution_count": null,
      "outputs": []
    },
    {
      "cell_type": "markdown",
      "metadata": {
        "id": "ri7BysTKhi7I"
      },
      "source": [
        ""
      ]
    },
    {
      "cell_type": "markdown",
      "metadata": {
        "id": "B6lO2LlFdxRM"
      },
      "source": [
        "### Adding Two Vectors\n",
        "\n",
        "In this next piece of code, we'll add two vectors. \n",
        "\n",
        "Each thread works on a small portion of the total number of elements to add.\n",
        "\n",
        "This uses a 1 dimensional grid, 1 dimensional blocks, and a grid stride loop. \n",
        "\n",
        "Grid stride means that each thread operates on one element then adds the total number of threads in the grid to get the index of the next element. \n",
        "\n",
        "We'll max out the number of threads we can use on a tesla k80 (colab normally runs on those gpus).\n",
        "\n",
        "From [here](https://www.nvidia.com/en-gb/data-center/tesla-k80/), there are 4992 CUDA cores on a K80.\n"
      ]
    },
    {
      "cell_type": "code",
      "metadata": {
        "colab": {
          "base_uri": "https://localhost:8080/"
        },
        "id": "a1iybppRd270",
        "outputId": "1f22d2e9-0775-4db6-aef1-cd94b554c052"
      },
      "source": [
        "%%cu\n",
        "#include <stdio.h>\n",
        "#include <stdlib.h>\n",
        "\n",
        "__global__ void add(int size, float *x, float *y) {\n",
        "    int index = blockIdx.x * blockDim.x + threadIdx.x;\n",
        "    int stride = blockDim.x * gridDim.x;\n",
        "\n",
        "    for (int i = index; i < size; i += stride) {\n",
        "        y[i] = x[i] + y[i];\n",
        "    }\n",
        "}\n",
        "\n",
        "\n",
        "int main() {\n",
        "    int size = 1000000000;\n",
        "    float *x, *y;\n",
        "\n",
        "    // Allocate space for both the vectors on both the host and device.\n",
        "    cudaMallocManaged(&x, size*sizeof(float));\n",
        "    cudaMallocManaged(&y, size*sizeof(float));\n",
        "\n",
        "    for (int i = 0; i < size; i++) {\n",
        "        x[i] = 2.0f;\n",
        "        y[i] = -1.0f;\n",
        "    }\n",
        "\n",
        "    // Launch kernel with 9 blocks with 512 threads in each block.\n",
        "    // This is 4608 threads.\n",
        "    add<<<9, 512>>>(size, x, y);\n",
        "\n",
        "    cudaDeviceSynchronize();\n",
        "\n",
        "    for(int i = 0; i < size; i++) {\n",
        "        if (abs(y[i] - 1.0f) > 0.001f) {\n",
        "            printf(\"Error is greater than 0.001! Value is: %f\", y[i]);\n",
        "        }\n",
        "    }\n",
        "    printf(\"Done! No errors detected!\\n\");\n",
        "    printf(\"First value in y is: %f\\n\", y[0]);\n",
        "    printf(\"Wow that was quick. We just added a billion floating point numbers!\\n\");\n",
        "    cudaFree(x);\n",
        "    cudaFree(y);\n",
        "    return 0;\n",
        "}\n"
      ],
      "execution_count": 16,
      "outputs": [
        {
          "output_type": "stream",
          "text": [
            "Done! No errors detected!\n",
            "First value in y is: 1.000000\n",
            "Wow that was quick. We just added a billion floating point numbers!\n",
            "\n"
          ],
          "name": "stdout"
        }
      ]
    },
    {
      "cell_type": "code",
      "metadata": {
        "id": "A5kjc2kld6u0"
      },
      "source": [
        ""
      ],
      "execution_count": null,
      "outputs": []
    }
  ]
}