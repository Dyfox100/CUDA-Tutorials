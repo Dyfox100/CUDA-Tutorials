{
  "nbformat": 4,
  "nbformat_minor": 0,
  "metadata": {
    "colab": {
      "name": "Matrix_Basics",
      "provenance": [],
      "toc_visible": true,
      "mount_file_id": "https://github.com/Dyfox100/CUDA-Tutorials/blob/main/Matrix_Basics.ipynb",
      "authorship_tag": "ABX9TyMiwIbKGg/akufQnGqIWcRk",
      "include_colab_link": true
    },
    "kernelspec": {
      "name": "python3",
      "display_name": "Python 3"
    }
  },
  "cells": [
    {
      "cell_type": "markdown",
      "metadata": {
        "id": "view-in-github",
        "colab_type": "text"
      },
      "source": [
        "<a href=\"https://colab.research.google.com/github/Dyfox100/CUDA-Tutorials/blob/main/Matrix_Basics.ipynb\" target=\"_parent\"><img src=\"https://colab.research.google.com/assets/colab-badge.svg\" alt=\"Open In Colab\"/></a>"
      ]
    },
    {
      "cell_type": "markdown",
      "metadata": {
        "id": "TfATpI3ccbLy"
      },
      "source": [
        "# Matrix / Vector Operations in CUDA\n",
        "\n",
        "### But first, set up the environment"
      ]
    },
    {
      "cell_type": "code",
      "metadata": {
        "colab": {
          "base_uri": "https://localhost:8080/"
        },
        "id": "4toplTmEcWby",
        "outputId": "a9461ab0-a659-4c66-bd57-84066fd565a1"
      },
      "source": [
        "!nvcc --version\n",
        "!pip install git+git://github.com/andreinechaev/nvcc4jupyter.git\n",
        "%load_ext nvcc_plugin\n",
        "!git clone https://github.com/Dyfox100/CUDA-Tutorials"
      ],
      "execution_count": null,
      "outputs": [
        {
          "output_type": "stream",
          "text": [
            "nvcc: NVIDIA (R) Cuda compiler driver\n",
            "Copyright (c) 2005-2019 NVIDIA Corporation\n",
            "Built on Sun_Jul_28_19:07:16_PDT_2019\n",
            "Cuda compilation tools, release 10.1, V10.1.243\n",
            "Collecting git+git://github.com/andreinechaev/nvcc4jupyter.git\n",
            "  Cloning git://github.com/andreinechaev/nvcc4jupyter.git to /tmp/pip-req-build-okgze4q5\n",
            "  Running command git clone -q git://github.com/andreinechaev/nvcc4jupyter.git /tmp/pip-req-build-okgze4q5\n",
            "Requirement already satisfied (use --upgrade to upgrade): NVCCPlugin==0.0.2 from git+git://github.com/andreinechaev/nvcc4jupyter.git in /usr/local/lib/python3.6/dist-packages\n",
            "Building wheels for collected packages: NVCCPlugin\n",
            "  Building wheel for NVCCPlugin (setup.py) ... \u001b[?25l\u001b[?25hdone\n",
            "  Created wheel for NVCCPlugin: filename=NVCCPlugin-0.0.2-cp36-none-any.whl size=4308 sha256=6797992bd70e62089135bc7c664ac3f100e8f9ed33b5c38b2334c13720e4c469\n",
            "  Stored in directory: /tmp/pip-ephem-wheel-cache-dta08eds/wheels/10/c2/05/ca241da37bff77d60d31a9174f988109c61ba989e4d4650516\n",
            "Successfully built NVCCPlugin\n",
            "The nvcc_plugin extension is already loaded. To reload it, use:\n",
            "  %reload_ext nvcc_plugin\n",
            "Cloning into 'CUDA-Tutorials'...\n",
            "remote: Enumerating objects: 40, done.\u001b[K\n",
            "remote: Counting objects: 100% (40/40), done.\u001b[K\n",
            "remote: Compressing objects: 100% (40/40), done.\u001b[K\n",
            "remote: Total 40 (delta 20), reused 0 (delta 0), pack-reused 0\u001b[K\n",
            "Unpacking objects: 100% (40/40), done.\n"
          ],
          "name": "stdout"
        }
      ]
    },
    {
      "cell_type": "markdown",
      "metadata": {
        "id": "B6lO2LlFdxRM"
      },
      "source": [
        "### Adding Two Vectors\n",
        "\n",
        "In this next piece of code, we'll add two vectors. \n",
        "\n",
        "In general, we'd like each thread to only work on one piece of data, but in this example we're going to write a loop. \n",
        "\n",
        "Adding a loop ensures we can process all of the elements if the number of data points exceeds the number of threads that we can run on the device.\n",
        "\n",
        "This uses a 1 dimensional grid, 1 dimensional blocks, and a grid stride loop. \n",
        "\n",
        "Grid stride means that each thread operates on one element then adds the total number of threads in the grid to get the index of the next element. \n",
        "\n",
        "We'll use a multiple of 32 for the block size to avoid wasting time at the end of each block. \n"
      ]
    },
    {
      "cell_type": "code",
      "metadata": {
        "colab": {
          "base_uri": "https://localhost:8080/"
        },
        "id": "a1iybppRd270",
        "outputId": "b4223c6f-2b55-4b2b-e540-16631a1800e3"
      },
      "source": [
        "%%cu\n",
        "#include <stdio.h>\n",
        "#include <stdlib.h>\n",
        "\n",
        "__global__ void add(int size, float *x, float *y) {\n",
        "    int index = blockIdx.x * blockDim.x + threadIdx.x;\n",
        "    int stride = blockDim.x * gridDim.x;\n",
        "\n",
        "    for (int i = index; i < size; i += stride) {\n",
        "        y[i] = x[i] + y[i];\n",
        "    }\n",
        "}\n",
        "\n",
        "\n",
        "int main() {\n",
        "    int size = 1000000000;\n",
        "    float *x, *y;\n",
        "\n",
        "    // Allocate space for both the vectors on both the host and device.\n",
        "    cudaMallocManaged(&x, size*sizeof(float));\n",
        "    cudaMallocManaged(&y, size*sizeof(float));\n",
        "\n",
        "    for (int i = 0; i < size; i++) {\n",
        "        x[i] = 2.0f;\n",
        "        y[i] = -1.0f;\n",
        "    }\n",
        "\n",
        "    // Launch kernel with 16 blocks with 512 threads in each block.\n",
        "    // 512 / 32 == 16, so the block size is a multiple of 32. \n",
        "    // This is 8192 threads, so the loop is necessary.\n",
        "    add<<<16, 512>>>(size, x, y);\n",
        "\n",
        "    cudaDeviceSynchronize();\n",
        "\n",
        "    for(int i = 0; i < size; i++) {\n",
        "        if (abs(y[i] - 1.0f) > 0.001f) {\n",
        "            printf(\"Error is greater than 0.001! Value is: %f\", y[i]);\n",
        "        }\n",
        "    }\n",
        "\n",
        "    // Now we can start a very large number of threads so the loop isn't really \n",
        "    // necessary. Note 1024 is the maximum number of threads in a block.\n",
        "    add<<<1048576, 1024>>>(size, x, y);\n",
        "\n",
        "    cudaDeviceSynchronize();\n",
        "\n",
        "    for(int i = 0; i < size; i++) {\n",
        "        if (abs(y[i] - 3.0f) > 0.001f) {\n",
        "            printf(\"Error is greater than 0.001! Value is: %f\", y[i]);\n",
        "        }\n",
        "    }\n",
        "    printf(\"Done! No errors detected!\\n\");\n",
        "    printf(\"First value in y is: %f and should be 3.0\\n\", y[0]);\n",
        "    printf(\"Wow that was quick. We just added a billion floating point numbers twice!\\n\");\n",
        "    cudaFree(x);\n",
        "    cudaFree(y);\n",
        "    return 0;\n",
        "}\n"
      ],
      "execution_count": null,
      "outputs": [
        {
          "output_type": "stream",
          "text": [
            "Done! No errors detected!\n",
            "First value in y is: 3.000000 and should be 3.0\n",
            "Wow that was quick. We just added a billion floating point numbers twice!\n",
            "\n"
          ],
          "name": "stdout"
        }
      ]
    },
    {
      "cell_type": "markdown",
      "metadata": {
        "id": "pS8w8QNBJ7eZ"
      },
      "source": [
        "### Dot Product\n",
        "To calculate the dot product we need to multiply each pair of elements in two vectors, and sum them.\n",
        "\n",
        "To do this, we'll use shared memory on a thread block to calculate a local sum,\n",
        "then reduce over all thread blocks.\n",
        "\n",
        "This will require a few new things. First off we'll need to use shared memory, secondly, we'll need to synchronize threads, and third, we'll need to use atomic operations. \n",
        "\n",
        "Each thread block has a piece of fast shared memory associated with it. This shared memory segment is only accessible from inside each thread block. \n",
        "\n",
        "To calculate the dot product on on thread block's id's, we'll create a shared memory segment to hold all of the individual products. This can be done using the \\__shared__ key word.\n",
        "\n",
        "Next we'll reduce / sum the values in each thread block's array of products. But first we'll need to synchronize the thread block. If each thread in the thread block isn't done adding their product to the shared array, we will get weird results.\n",
        "\n",
        "Waiting for all threads to get to a certain point inside a thread block can be accomplished by using the \\__syncthreads function.\n",
        "\n",
        "Next we'll actually do the reduction to get each thread blocks portion of the dot product. But we now need to add all of the thread blocks portions together. We cna just add them to the result variable, but we need to be careful. Thread blocks run concurrently, so imagine what happens if thread block 4 reads the result variable, then thread block 5 writes to the thread block variable, then thread block 4 does it's add and writes to the result variable. The result would completly miss the contribution from block 5 becuase it wasn't there when block 4 read the result variable!\n",
        "\n",
        "To fix this we can use an atomic operation. Atomic operations can read a memory location, perform some operation, then write back to the memory location without having anyone else read / write to that memory location. We'll use an atomicAdd here.\n"
      ]
    },
    {
      "cell_type": "code",
      "metadata": {
        "id": "R6MN98hqJ6id",
        "colab": {
          "base_uri": "https://localhost:8080/"
        },
        "outputId": "b64e04b4-4cf5-4b60-fa23-0f653102f50d"
      },
      "source": [
        "%%cu\n",
        "#include <stdio.h>\n",
        "#include <stdlib.h>\n",
        "\n",
        "#define SIZE 1000000000\n",
        "#define THREADS_PER_BLOCK 1024\n",
        "\n",
        "__global__ void dot(float *x, float *y, float *result) {\n",
        "    __shared__ float blockProducts[THREADS_PER_BLOCK];\n",
        "\n",
        "    int index = blockIdx.x * blockDim.x + threadIdx.x;\n",
        "    blockProducts[threadIdx.x] = x[index] * y[index];\n",
        "\n",
        "    __syncthreads();\n",
        "\n",
        "    \n",
        "    if (threadIdx.x == 0) {\n",
        "        float blockSum = 0.0;\n",
        "        for (int i = 0; i < THREADS_PER_BLOCK; i++) {\n",
        "            blockSum += blockProducts[i];\n",
        "        }\n",
        "        atomicAdd(result, blockSum);\n",
        "    }\n",
        "}\n",
        "\n",
        "\n",
        "int main() {\n",
        "    float *x, *y, *result;\n",
        "\n",
        "    // Allocate space for both the vectors on both the host and device.\n",
        "    cudaMallocManaged(&x, SIZE*sizeof(float));\n",
        "    cudaMallocManaged(&y, SIZE*sizeof(float));\n",
        "\n",
        "    // Allocate space for the result.\n",
        "    cudaMallocManaged(&result, sizeof(float));\n",
        "\n",
        "    for (int i = 0; i < SIZE; i++) {\n",
        "        x[i] = 1.0f;\n",
        "        y[i] = -1.0f;\n",
        "    }\n",
        "\n",
        "    int blocks = (SIZE + (THREADS_PER_BLOCK - 1)) / THREADS_PER_BLOCK;\n",
        "    dot <<< blocks, THREADS_PER_BLOCK >>>(x, y, result);\n",
        "    cudaDeviceSynchronize();\n",
        "\n",
        "    if (abs(*result + SIZE) > 1.0) {\n",
        "        printf(\"Error in dot product, dot product is: %f\", *result);\n",
        "    }\n",
        "    else {\n",
        "      printf(\"Done! No errors detected! Dot product is: %f and should be -%d\\n\", *result, SIZE);  \n",
        "    }\n",
        "    \n",
        "    cudaFree(x);\n",
        "    cudaFree(y);\n",
        "    cudaFree(result);\n",
        "    return 0;\n",
        "}\n"
      ],
      "execution_count": null,
      "outputs": [
        {
          "output_type": "stream",
          "text": [
            "Done! No errors detected! Dot product is: -1000000000.000000 and should be -1000000000\n",
            "\n"
          ],
          "name": "stdout"
        }
      ]
    },
    {
      "cell_type": "markdown",
      "metadata": {
        "id": "L-o0LyN3R8Da"
      },
      "source": [
        "### Vector Matrix Multiplication"
      ]
    },
    {
      "cell_type": "code",
      "metadata": {
        "colab": {
          "base_uri": "https://localhost:8080/"
        },
        "id": "7kA1xNCuR7Ra",
        "outputId": "29575acf-5233-4a15-8f09-8ccc26713c26"
      },
      "source": [
        "%%cu\n",
        "#include <stdio.h>\n",
        "#include <stdlib.h>\n",
        "\n",
        "#define COLS 10000\n",
        "#define ROWS 20000\n",
        "\n",
        "\n",
        "__global__ void matVecProd(float *mat, float *vec, float *result, int rows, int cols) {\n",
        "    int tid=threadIdx.x+blockIdx.x*blockDim.x;\n",
        "    float sum=0;\n",
        "    if(tid < cols){\n",
        "      for(int i = 0; i < rows; i++)\n",
        "        sum += vec[i] * mat[(i*cols) + tid];\n",
        "      result[tid] = sum;\n",
        "    }\n",
        "}\n",
        "\n",
        "\n",
        "int main() {\n",
        "    float *mat, *vec, *result;\n",
        "\n",
        "    int cols = COLS;\n",
        "    int rows = ROWS;\n",
        "\n",
        "    cudaMallocManaged(&mat, sizeof(float) * cols * rows);\n",
        "    cudaMallocManaged(&vec, sizeof(float) * rows);\n",
        "    cudaMallocManaged(&result, sizeof(float) * cols);\n",
        "\n",
        "     for (int i = 0; i < rows; i++) {\n",
        "        vec[i] = 1.0f;\n",
        "    }\n",
        "\n",
        "    for (int i = 0; i < rows; i++) {\n",
        "      for (int j = 0; j < cols; j++) {\n",
        "        mat[i * cols + j] = 1.0f;\n",
        "      }\n",
        "    }\n",
        "    int threadsBlock = 32 * 5;\n",
        "    int blocks = (COLS * 2) / threadsBlock + 1;\n",
        "    matVecProd<<<blocks, threadsBlock >>>(mat, vec, result, rows, cols);\n",
        "    cudaDeviceSynchronize();\n",
        "\n",
        "    for (int i = 0; i < cols; i++) {\n",
        "        if (abs(result[i] - 20000) > 1) {\n",
        "            printf(\"Error! Value at index %d in result vector is %f\\n\", i, result[i]);\n",
        "        }\n",
        "    }\n",
        "\n",
        "    printf(\"No errors, all elements in result array are %f\", result[0]);\n",
        "    return 0;\n",
        "\n",
        "}\n",
        "\n"
      ],
      "execution_count": null,
      "outputs": [
        {
          "output_type": "stream",
          "text": [
            "No errors, all elements in result array are 20000.000000\n"
          ],
          "name": "stdout"
        }
      ]
    },
    {
      "cell_type": "markdown",
      "metadata": {
        "id": "C2RFdpnwiUOL"
      },
      "source": [
        "### Matrix Matrix Multiplication"
      ]
    },
    {
      "cell_type": "code",
      "metadata": {
        "colab": {
          "base_uri": "https://localhost:8080/"
        },
        "id": "kzsMFXgQiSfQ",
        "outputId": "29575acf-5233-4a15-8f09-8ccc26713c26"
      },
      "source": [
        "%%cu\n",
        "#include <stdio.h>\n",
        "#include <stdlib.h>\n",
        "\n",
        "\n",
        "\n",
        "__global__ void matMatProd(float *mat1, float *mat2, float *result, int rows, int cols) {\n",
        "    \n",
        "}\n",
        "\n",
        "\n",
        "int main() {\n",
        "    float *mat1, *mat2, *result;\n",
        "\n",
        "    int m, n;\n",
        "    m = 10000;\n",
        "    n = 20000;\n",
        "\n",
        "\n",
        "    cudaMallocManaged(&mat1, sizeof(float) * m * n);\n",
        "    cudaMallocManaged(&mat2, sizeof(float) * n * m);\n",
        "    cudaMallocManaged(&result, sizeof(float) * m * m);\n",
        "\n",
        "    for (int i = 0; i < m; i++) {\n",
        "        for (int j = 0; j < n; j++) {\n",
        "            mat1[i * m + j] = 1.0f;\n",
        "        }\n",
        "    }\n",
        "\n",
        "    for (int i = 0; i < n; i++) {\n",
        "        for (int j = 0; j < m; j++) {\n",
        "            mat2[i * n + j] = 1.0f;\n",
        "        }\n",
        "    }\n",
        "\n",
        "\n",
        "\n",
        "\n",
        "    printf(\"No errors, all elements in result array are %f\", result[0]);\n",
        "\n",
        "    cudaFree(mat1);\n",
        "    cudaFree(mat2);\n",
        "    cudaFree(result);\n",
        "    return 0;\n",
        "\n",
        "}\n",
        "\n"
      ],
      "execution_count": null,
      "outputs": [
        {
          "output_type": "stream",
          "text": [
            "No errors, all elements in result array are 20000.000000\n"
          ],
          "name": "stdout"
        }
      ]
    },
    {
      "cell_type": "code",
      "metadata": {
        "id": "JaDjrrS6Nva3",
        "colab": {
          "base_uri": "https://localhost:8080/"
        },
        "outputId": "ad8f8467-4b1f-4d1b-fb36-10c3b4061411"
      },
      "source": [
        "!nvcc  ./drive/MyDrive/test.cpp -I/usr/include/opencv -lopencv_core -lopencv_highgui -lopencv_imgproc -lopencv_imgcodecs -lopencv_core \n"
      ],
      "execution_count": null,
      "outputs": [
        {
          "output_type": "stream",
          "text": [
            "\u001b[01m\u001b[K./drive/MyDrive/test.cpp:9:1:\u001b[m\u001b[K \u001b[01;31m\u001b[Kerror: \u001b[m\u001b[K‘\u001b[01m\u001b[K__global__\u001b[m\u001b[K’ does not name a type; did you mean ‘\u001b[01m\u001b[K__locale_t\u001b[m\u001b[K’?\n",
            " \u001b[01;31m\u001b[K__global__\u001b[m\u001b[K void brighten()\n",
            " \u001b[01;31m\u001b[K^~~~~~~~~~\u001b[m\u001b[K\n",
            " \u001b[32m\u001b[K__locale_t\u001b[m\u001b[K\n"
          ],
          "name": "stdout"
        }
      ]
    },
    {
      "cell_type": "code",
      "metadata": {
        "colab": {
          "base_uri": "https://localhost:8080/"
        },
        "id": "NKvequ4swq4b",
        "outputId": "658f1031-28be-432b-872b-6211ea020141"
      },
      "source": [
        "!./a.out\n"
      ],
      "execution_count": null,
      "outputs": [
        {
          "output_type": "stream",
          "text": [
            "Starting!\n",
            "The first value in the r array is: 76\n"
          ],
          "name": "stdout"
        }
      ]
    },
    {
      "cell_type": "code",
      "metadata": {
        "id": "Jz2fg1nn1lTV"
      },
      "source": [
        ""
      ],
      "execution_count": null,
      "outputs": []
    }
  ]
}